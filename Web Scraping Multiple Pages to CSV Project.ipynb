{
 "cells": [
  {
   "cell_type": "code",
   "execution_count": 1,
   "id": "981818a6",
   "metadata": {},
   "outputs": [],
   "source": [
    "import requests"
   ]
  },
  {
   "cell_type": "code",
   "execution_count": 9,
   "id": "70e56c9c",
   "metadata": {},
   "outputs": [],
   "source": [
    "from bs4 import BeautifulSoup"
   ]
  },
  {
   "cell_type": "code",
   "execution_count": 30,
   "id": "9b6f459f",
   "metadata": {},
   "outputs": [],
   "source": [
    "import pandas as pd"
   ]
  },
  {
   "cell_type": "code",
   "execution_count": null,
   "id": "d9117a5f",
   "metadata": {},
   "outputs": [],
   "source": []
  },
  {
   "cell_type": "code",
   "execution_count": 32,
   "id": "edcf9d54",
   "metadata": {},
   "outputs": [],
   "source": [
    "# Connect to Website and pull in data and clean it\n",
    "\n",
    "books = []\n",
    "for i in range (1,51):\n",
    "    URL = f\"https://books.toscrape.com/catalogue/page-{i}.html\"\n",
    "    response = requests.get(URL)\n",
    "    response = response.content\n",
    "    soup1 = BeautifulSoup(response, \"html.parser\")\n",
    "    order_list = soup1.find(\"ol\")\n",
    "    articles = order_list.find_all('article', class_='product_pod')\n",
    "    \n",
    "\n",
    "    for article in articles: \n",
    "        image = article.find('img')\n",
    "        title = image.attrs['alt']\n",
    "        star = article.find('p')\n",
    "        star= star['class'][1]\n",
    "        price= article.find('p', class_='price_color').text\n",
    "        price = float(price[1:])\n",
    "        books.append([title, price, star])\n",
    "\n"
   ]
  },
  {
   "cell_type": "code",
   "execution_count": 34,
   "id": "ff9fde79",
   "metadata": {},
   "outputs": [],
   "source": [
    "# Creating Columns for csv document\n",
    "\n",
    "data_frame = pd.DataFrame(books, columns = ['Title', 'Price', 'Star Rating'])"
   ]
  },
  {
   "cell_type": "code",
   "execution_count": 35,
   "id": "fc74e7e8",
   "metadata": {},
   "outputs": [],
   "source": [
    "# Append date to CSV file\n",
    "\n",
    "data_frame.to_csv('books.csv')"
   ]
  },
  {
   "cell_type": "code",
   "execution_count": null,
   "id": "1efe7f37",
   "metadata": {},
   "outputs": [],
   "source": []
  },
  {
   "cell_type": "code",
   "execution_count": null,
   "id": "ccd25488",
   "metadata": {},
   "outputs": [],
   "source": []
  }
 ],
 "metadata": {
  "kernelspec": {
   "display_name": "Python 3 (ipykernel)",
   "language": "python",
   "name": "python3"
  },
  "language_info": {
   "codemirror_mode": {
    "name": "ipython",
    "version": 3
   },
   "file_extension": ".py",
   "mimetype": "text/x-python",
   "name": "python",
   "nbconvert_exporter": "python",
   "pygments_lexer": "ipython3",
   "version": "3.10.9"
  }
 },
 "nbformat": 4,
 "nbformat_minor": 5
}
