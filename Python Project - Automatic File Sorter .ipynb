{
 "cells": [
  {
   "cell_type": "markdown",
   "id": "4ae221b4",
   "metadata": {},
   "source": [
    "# Automatic File Sorter in File Explorer"
   ]
  },
  {
   "cell_type": "code",
   "execution_count": 26,
   "id": "ccc92d7a",
   "metadata": {},
   "outputs": [],
   "source": [
    "import os, shutil"
   ]
  },
  {
   "cell_type": "code",
   "execution_count": 27,
   "id": "fa2cd844",
   "metadata": {},
   "outputs": [],
   "source": [
    "path = r\"C:/Users/karlj/Desktop/Misc Documents/\""
   ]
  },
  {
   "cell_type": "code",
   "execution_count": 28,
   "id": "c57c2453",
   "metadata": {},
   "outputs": [],
   "source": [
    "file_name = os.listdir(path)"
   ]
  },
  {
   "cell_type": "code",
   "execution_count": 33,
   "id": "8921eb33",
   "metadata": {},
   "outputs": [
    {
     "name": "stdout",
     "output_type": "stream",
     "text": [
      "C:/Users/karlj/Desktop/Misc Documents/PowerPoint Files\n",
      "C:/Users/karlj/Desktop/Misc Documents/Word Files\n",
      "C:/Users/karlj/Desktop/Misc Documents/PDF Files\n"
     ]
    }
   ],
   "source": [
    "folder_names = ['PowerPoint Files', 'Word Files', 'PDF Files']\n",
    "\n",
    "for loop in range(0,3):\n",
    "       if not os.path.exists(path + folder_names[loop]):\n",
    "            print(path + folder_names[loop])\n",
    "            os.makedirs(path + folder_names[loop])\n",
    "            \n",
    "for file in file_name:\n",
    "    if \".pptx\" in file and not os.path.exists(path + \"PowerPoint Files/\" + file):\n",
    "        shutil.move(path + file, path + \"PowerPoint Files/\" + file)\n",
    "    elif \".docx\" in file and not os.path.exists(path + \"Word Files/\" + file):\n",
    "        shutil.move(path + file, path + \"Word Files/\" + file)\n",
    "    elif \".pdf\" in file and not os.path.exists(path + \"PDF Files/\" + file):\n",
    "        shutil.move(path + file, path + \"PDF Files/\" + file)"
   ]
  },
  {
   "cell_type": "code",
   "execution_count": 32,
   "id": "4504d38a",
   "metadata": {},
   "outputs": [],
   "source": []
  },
  {
   "cell_type": "code",
   "execution_count": null,
   "id": "fe8fa7ff",
   "metadata": {},
   "outputs": [],
   "source": []
  }
 ],
 "metadata": {
  "kernelspec": {
   "display_name": "Python 3 (ipykernel)",
   "language": "python",
   "name": "python3"
  },
  "language_info": {
   "codemirror_mode": {
    "name": "ipython",
    "version": 3
   },
   "file_extension": ".py",
   "mimetype": "text/x-python",
   "name": "python",
   "nbconvert_exporter": "python",
   "pygments_lexer": "ipython3",
   "version": "3.10.9"
  }
 },
 "nbformat": 4,
 "nbformat_minor": 5
}
